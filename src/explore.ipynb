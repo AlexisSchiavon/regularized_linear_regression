{
    "cells": [
        {
            "cell_type": "markdown",
            "metadata": {},
            "source": [
                "# Explore here"
            ]
        },
        {
            "cell_type": "code",
            "execution_count": 9,
            "metadata": {},
            "outputs": [],
            "source": [
                "import pandas as pd\n",
                "import numpy as np\n",
                "import matplotlib.pyplot as plt\n",
                "import seaborn as sns\n",
                "from sklearn.model_selection import train_test_split, GridSearchCV, RandomizedSearchCV\n",
                "from sklearn.linear_model import LinearRegression, Lasso\n",
                "from sklearn.preprocessing import StandardScaler\n",
                "from sklearn.metrics import mean_squared_error, r2_score"
            ]
        },
        {
            "cell_type": "code",
            "execution_count": 2,
            "metadata": {},
            "outputs": [],
            "source": [
                "url = \"https://raw.githubusercontent.com/4GeeksAcademy/regularized-linear-regression-project-tutorial/main/demographic_health_data.csv\"\n",
                "df = pd.read_csv(url)"
            ]
        },
        {
            "cell_type": "code",
            "execution_count": 3,
            "metadata": {},
            "outputs": [
                {
                    "data": {
                        "text/html": [
                            "<div>\n",
                            "<style scoped>\n",
                            "    .dataframe tbody tr th:only-of-type {\n",
                            "        vertical-align: middle;\n",
                            "    }\n",
                            "\n",
                            "    .dataframe tbody tr th {\n",
                            "        vertical-align: top;\n",
                            "    }\n",
                            "\n",
                            "    .dataframe thead th {\n",
                            "        text-align: right;\n",
                            "    }\n",
                            "</style>\n",
                            "<table border=\"1\" class=\"dataframe\">\n",
                            "  <thead>\n",
                            "    <tr style=\"text-align: right;\">\n",
                            "      <th></th>\n",
                            "      <th>fips</th>\n",
                            "      <th>TOT_POP</th>\n",
                            "      <th>0-9</th>\n",
                            "      <th>0-9 y/o % of total pop</th>\n",
                            "      <th>19-Oct</th>\n",
                            "      <th>10-19 y/o % of total pop</th>\n",
                            "      <th>20-29</th>\n",
                            "      <th>20-29 y/o % of total pop</th>\n",
                            "      <th>30-39</th>\n",
                            "      <th>30-39 y/o % of total pop</th>\n",
                            "      <th>...</th>\n",
                            "      <th>COPD_number</th>\n",
                            "      <th>diabetes_prevalence</th>\n",
                            "      <th>diabetes_Lower 95% CI</th>\n",
                            "      <th>diabetes_Upper 95% CI</th>\n",
                            "      <th>diabetes_number</th>\n",
                            "      <th>CKD_prevalence</th>\n",
                            "      <th>CKD_Lower 95% CI</th>\n",
                            "      <th>CKD_Upper 95% CI</th>\n",
                            "      <th>CKD_number</th>\n",
                            "      <th>Urban_rural_code</th>\n",
                            "    </tr>\n",
                            "  </thead>\n",
                            "  <tbody>\n",
                            "    <tr>\n",
                            "      <th>count</th>\n",
                            "      <td>3140.000000</td>\n",
                            "      <td>3.140000e+03</td>\n",
                            "      <td>3.140000e+03</td>\n",
                            "      <td>3140.000000</td>\n",
                            "      <td>3.140000e+03</td>\n",
                            "      <td>3140.000000</td>\n",
                            "      <td>3.140000e+03</td>\n",
                            "      <td>3140.000000</td>\n",
                            "      <td>3.140000e+03</td>\n",
                            "      <td>3140.000000</td>\n",
                            "      <td>...</td>\n",
                            "      <td>3140.000000</td>\n",
                            "      <td>3140.000000</td>\n",
                            "      <td>3140.000000</td>\n",
                            "      <td>3140.000000</td>\n",
                            "      <td>3140.000000</td>\n",
                            "      <td>3140.000000</td>\n",
                            "      <td>3140.000000</td>\n",
                            "      <td>3140.000000</td>\n",
                            "      <td>3140.000000</td>\n",
                            "      <td>3140.000000</td>\n",
                            "    </tr>\n",
                            "    <tr>\n",
                            "      <th>mean</th>\n",
                            "      <td>30401.640764</td>\n",
                            "      <td>1.041894e+05</td>\n",
                            "      <td>1.274030e+04</td>\n",
                            "      <td>11.871051</td>\n",
                            "      <td>1.336798e+04</td>\n",
                            "      <td>12.694609</td>\n",
                            "      <td>1.446933e+04</td>\n",
                            "      <td>12.283979</td>\n",
                            "      <td>1.391649e+04</td>\n",
                            "      <td>11.751535</td>\n",
                            "      <td>...</td>\n",
                            "      <td>5827.242357</td>\n",
                            "      <td>13.073503</td>\n",
                            "      <td>12.088089</td>\n",
                            "      <td>14.053726</td>\n",
                            "      <td>9326.577707</td>\n",
                            "      <td>3.446242</td>\n",
                            "      <td>3.207516</td>\n",
                            "      <td>3.710478</td>\n",
                            "      <td>2466.234076</td>\n",
                            "      <td>4.635350</td>\n",
                            "    </tr>\n",
                            "    <tr>\n",
                            "      <th>std</th>\n",
                            "      <td>15150.559265</td>\n",
                            "      <td>3.335834e+05</td>\n",
                            "      <td>4.180730e+04</td>\n",
                            "      <td>2.124081</td>\n",
                            "      <td>4.228439e+04</td>\n",
                            "      <td>1.815044</td>\n",
                            "      <td>4.957773e+04</td>\n",
                            "      <td>3.126297</td>\n",
                            "      <td>4.899095e+04</td>\n",
                            "      <td>1.696599</td>\n",
                            "      <td>...</td>\n",
                            "      <td>15720.551934</td>\n",
                            "      <td>2.724351</td>\n",
                            "      <td>2.622948</td>\n",
                            "      <td>2.824828</td>\n",
                            "      <td>29754.601185</td>\n",
                            "      <td>0.568059</td>\n",
                            "      <td>0.527740</td>\n",
                            "      <td>0.613069</td>\n",
                            "      <td>7730.422067</td>\n",
                            "      <td>1.510447</td>\n",
                            "    </tr>\n",
                            "    <tr>\n",
                            "      <th>min</th>\n",
                            "      <td>1001.000000</td>\n",
                            "      <td>8.800000e+01</td>\n",
                            "      <td>0.000000e+00</td>\n",
                            "      <td>0.000000</td>\n",
                            "      <td>0.000000e+00</td>\n",
                            "      <td>0.000000</td>\n",
                            "      <td>0.000000e+00</td>\n",
                            "      <td>0.000000</td>\n",
                            "      <td>1.100000e+01</td>\n",
                            "      <td>6.092789</td>\n",
                            "      <td>...</td>\n",
                            "      <td>7.000000</td>\n",
                            "      <td>6.100000</td>\n",
                            "      <td>5.500000</td>\n",
                            "      <td>6.700000</td>\n",
                            "      <td>11.000000</td>\n",
                            "      <td>1.800000</td>\n",
                            "      <td>1.700000</td>\n",
                            "      <td>1.900000</td>\n",
                            "      <td>3.000000</td>\n",
                            "      <td>1.000000</td>\n",
                            "    </tr>\n",
                            "    <tr>\n",
                            "      <th>25%</th>\n",
                            "      <td>18180.500000</td>\n",
                            "      <td>1.096325e+04</td>\n",
                            "      <td>1.280500e+03</td>\n",
                            "      <td>10.594639</td>\n",
                            "      <td>1.374500e+03</td>\n",
                            "      <td>11.674504</td>\n",
                            "      <td>1.263750e+03</td>\n",
                            "      <td>10.496774</td>\n",
                            "      <td>1.232750e+03</td>\n",
                            "      <td>10.689322</td>\n",
                            "      <td>...</td>\n",
                            "      <td>815.000000</td>\n",
                            "      <td>11.200000</td>\n",
                            "      <td>10.300000</td>\n",
                            "      <td>12.100000</td>\n",
                            "      <td>1187.750000</td>\n",
                            "      <td>3.100000</td>\n",
                            "      <td>2.900000</td>\n",
                            "      <td>3.300000</td>\n",
                            "      <td>314.750000</td>\n",
                            "      <td>3.000000</td>\n",
                            "    </tr>\n",
                            "    <tr>\n",
                            "      <th>50%</th>\n",
                            "      <td>29178.000000</td>\n",
                            "      <td>2.580050e+04</td>\n",
                            "      <td>3.057000e+03</td>\n",
                            "      <td>11.802727</td>\n",
                            "      <td>3.274000e+03</td>\n",
                            "      <td>12.687422</td>\n",
                            "      <td>3.108000e+03</td>\n",
                            "      <td>11.772649</td>\n",
                            "      <td>3.000500e+03</td>\n",
                            "      <td>11.580861</td>\n",
                            "      <td>...</td>\n",
                            "      <td>1963.500000</td>\n",
                            "      <td>12.800000</td>\n",
                            "      <td>11.800000</td>\n",
                            "      <td>13.800000</td>\n",
                            "      <td>2743.000000</td>\n",
                            "      <td>3.400000</td>\n",
                            "      <td>3.200000</td>\n",
                            "      <td>3.700000</td>\n",
                            "      <td>718.000000</td>\n",
                            "      <td>5.000000</td>\n",
                            "    </tr>\n",
                            "    <tr>\n",
                            "      <th>75%</th>\n",
                            "      <td>45081.500000</td>\n",
                            "      <td>6.791300e+04</td>\n",
                            "      <td>8.097000e+03</td>\n",
                            "      <td>12.951840</td>\n",
                            "      <td>8.822250e+03</td>\n",
                            "      <td>13.659282</td>\n",
                            "      <td>8.976250e+03</td>\n",
                            "      <td>13.182260</td>\n",
                            "      <td>8.314250e+03</td>\n",
                            "      <td>12.639379</td>\n",
                            "      <td>...</td>\n",
                            "      <td>4727.000000</td>\n",
                            "      <td>14.800000</td>\n",
                            "      <td>13.700000</td>\n",
                            "      <td>15.900000</td>\n",
                            "      <td>6679.250000</td>\n",
                            "      <td>3.800000</td>\n",
                            "      <td>3.500000</td>\n",
                            "      <td>4.100000</td>\n",
                            "      <td>1776.250000</td>\n",
                            "      <td>6.000000</td>\n",
                            "    </tr>\n",
                            "    <tr>\n",
                            "      <th>max</th>\n",
                            "      <td>56045.000000</td>\n",
                            "      <td>1.010552e+07</td>\n",
                            "      <td>1.208253e+06</td>\n",
                            "      <td>25.460677</td>\n",
                            "      <td>1.239139e+06</td>\n",
                            "      <td>23.304372</td>\n",
                            "      <td>1.557073e+06</td>\n",
                            "      <td>37.570198</td>\n",
                            "      <td>1.501844e+06</td>\n",
                            "      <td>22.225129</td>\n",
                            "      <td>...</td>\n",
                            "      <td>434075.000000</td>\n",
                            "      <td>25.600000</td>\n",
                            "      <td>24.200000</td>\n",
                            "      <td>27.000000</td>\n",
                            "      <td>952335.000000</td>\n",
                            "      <td>6.200000</td>\n",
                            "      <td>5.800000</td>\n",
                            "      <td>6.600000</td>\n",
                            "      <td>237766.000000</td>\n",
                            "      <td>6.000000</td>\n",
                            "    </tr>\n",
                            "  </tbody>\n",
                            "</table>\n",
                            "<p>8 rows × 106 columns</p>\n",
                            "</div>"
                        ],
                        "text/plain": [
                            "               fips       TOT_POP           0-9  0-9 y/o % of total pop  \\\n",
                            "count   3140.000000  3.140000e+03  3.140000e+03             3140.000000   \n",
                            "mean   30401.640764  1.041894e+05  1.274030e+04               11.871051   \n",
                            "std    15150.559265  3.335834e+05  4.180730e+04                2.124081   \n",
                            "min     1001.000000  8.800000e+01  0.000000e+00                0.000000   \n",
                            "25%    18180.500000  1.096325e+04  1.280500e+03               10.594639   \n",
                            "50%    29178.000000  2.580050e+04  3.057000e+03               11.802727   \n",
                            "75%    45081.500000  6.791300e+04  8.097000e+03               12.951840   \n",
                            "max    56045.000000  1.010552e+07  1.208253e+06               25.460677   \n",
                            "\n",
                            "             19-Oct  10-19 y/o % of total pop         20-29  \\\n",
                            "count  3.140000e+03               3140.000000  3.140000e+03   \n",
                            "mean   1.336798e+04                 12.694609  1.446933e+04   \n",
                            "std    4.228439e+04                  1.815044  4.957773e+04   \n",
                            "min    0.000000e+00                  0.000000  0.000000e+00   \n",
                            "25%    1.374500e+03                 11.674504  1.263750e+03   \n",
                            "50%    3.274000e+03                 12.687422  3.108000e+03   \n",
                            "75%    8.822250e+03                 13.659282  8.976250e+03   \n",
                            "max    1.239139e+06                 23.304372  1.557073e+06   \n",
                            "\n",
                            "       20-29 y/o % of total pop         30-39  30-39 y/o % of total pop  ...  \\\n",
                            "count               3140.000000  3.140000e+03               3140.000000  ...   \n",
                            "mean                  12.283979  1.391649e+04                 11.751535  ...   \n",
                            "std                    3.126297  4.899095e+04                  1.696599  ...   \n",
                            "min                    0.000000  1.100000e+01                  6.092789  ...   \n",
                            "25%                   10.496774  1.232750e+03                 10.689322  ...   \n",
                            "50%                   11.772649  3.000500e+03                 11.580861  ...   \n",
                            "75%                   13.182260  8.314250e+03                 12.639379  ...   \n",
                            "max                   37.570198  1.501844e+06                 22.225129  ...   \n",
                            "\n",
                            "         COPD_number  diabetes_prevalence  diabetes_Lower 95% CI  \\\n",
                            "count    3140.000000          3140.000000            3140.000000   \n",
                            "mean     5827.242357            13.073503              12.088089   \n",
                            "std     15720.551934             2.724351               2.622948   \n",
                            "min         7.000000             6.100000               5.500000   \n",
                            "25%       815.000000            11.200000              10.300000   \n",
                            "50%      1963.500000            12.800000              11.800000   \n",
                            "75%      4727.000000            14.800000              13.700000   \n",
                            "max    434075.000000            25.600000              24.200000   \n",
                            "\n",
                            "       diabetes_Upper 95% CI  diabetes_number  CKD_prevalence  \\\n",
                            "count            3140.000000      3140.000000     3140.000000   \n",
                            "mean               14.053726      9326.577707        3.446242   \n",
                            "std                 2.824828     29754.601185        0.568059   \n",
                            "min                 6.700000        11.000000        1.800000   \n",
                            "25%                12.100000      1187.750000        3.100000   \n",
                            "50%                13.800000      2743.000000        3.400000   \n",
                            "75%                15.900000      6679.250000        3.800000   \n",
                            "max                27.000000    952335.000000        6.200000   \n",
                            "\n",
                            "       CKD_Lower 95% CI  CKD_Upper 95% CI     CKD_number  Urban_rural_code  \n",
                            "count       3140.000000       3140.000000    3140.000000       3140.000000  \n",
                            "mean           3.207516          3.710478    2466.234076          4.635350  \n",
                            "std            0.527740          0.613069    7730.422067          1.510447  \n",
                            "min            1.700000          1.900000       3.000000          1.000000  \n",
                            "25%            2.900000          3.300000     314.750000          3.000000  \n",
                            "50%            3.200000          3.700000     718.000000          5.000000  \n",
                            "75%            3.500000          4.100000    1776.250000          6.000000  \n",
                            "max            5.800000          6.600000  237766.000000          6.000000  \n",
                            "\n",
                            "[8 rows x 106 columns]"
                        ]
                    },
                    "execution_count": 3,
                    "metadata": {},
                    "output_type": "execute_result"
                }
            ],
            "source": [
                "df.describe()"
            ]
        },
        {
            "cell_type": "code",
            "execution_count": 4,
            "metadata": {},
            "outputs": [
                {
                    "data": {
                        "text/html": [
                            "<div>\n",
                            "<style scoped>\n",
                            "    .dataframe tbody tr th:only-of-type {\n",
                            "        vertical-align: middle;\n",
                            "    }\n",
                            "\n",
                            "    .dataframe tbody tr th {\n",
                            "        vertical-align: top;\n",
                            "    }\n",
                            "\n",
                            "    .dataframe thead th {\n",
                            "        text-align: right;\n",
                            "    }\n",
                            "</style>\n",
                            "<table border=\"1\" class=\"dataframe\">\n",
                            "  <thead>\n",
                            "    <tr style=\"text-align: right;\">\n",
                            "      <th></th>\n",
                            "      <th>fips</th>\n",
                            "      <th>TOT_POP</th>\n",
                            "      <th>0-9</th>\n",
                            "      <th>0-9 y/o % of total pop</th>\n",
                            "      <th>19-Oct</th>\n",
                            "      <th>10-19 y/o % of total pop</th>\n",
                            "      <th>20-29</th>\n",
                            "      <th>20-29 y/o % of total pop</th>\n",
                            "      <th>30-39</th>\n",
                            "      <th>30-39 y/o % of total pop</th>\n",
                            "      <th>...</th>\n",
                            "      <th>COPD_number</th>\n",
                            "      <th>diabetes_prevalence</th>\n",
                            "      <th>diabetes_Lower 95% CI</th>\n",
                            "      <th>diabetes_Upper 95% CI</th>\n",
                            "      <th>diabetes_number</th>\n",
                            "      <th>CKD_prevalence</th>\n",
                            "      <th>CKD_Lower 95% CI</th>\n",
                            "      <th>CKD_Upper 95% CI</th>\n",
                            "      <th>CKD_number</th>\n",
                            "      <th>Urban_rural_code</th>\n",
                            "    </tr>\n",
                            "  </thead>\n",
                            "  <tbody>\n",
                            "    <tr>\n",
                            "      <th>0</th>\n",
                            "      <td>1001</td>\n",
                            "      <td>55601</td>\n",
                            "      <td>6787</td>\n",
                            "      <td>12.206615</td>\n",
                            "      <td>7637</td>\n",
                            "      <td>13.735364</td>\n",
                            "      <td>6878</td>\n",
                            "      <td>12.370281</td>\n",
                            "      <td>7089</td>\n",
                            "      <td>12.749771</td>\n",
                            "      <td>...</td>\n",
                            "      <td>3644</td>\n",
                            "      <td>12.9</td>\n",
                            "      <td>11.9</td>\n",
                            "      <td>13.8</td>\n",
                            "      <td>5462</td>\n",
                            "      <td>3.1</td>\n",
                            "      <td>2.9</td>\n",
                            "      <td>3.3</td>\n",
                            "      <td>1326</td>\n",
                            "      <td>3</td>\n",
                            "    </tr>\n",
                            "    <tr>\n",
                            "      <th>1</th>\n",
                            "      <td>1003</td>\n",
                            "      <td>218022</td>\n",
                            "      <td>24757</td>\n",
                            "      <td>11.355276</td>\n",
                            "      <td>26913</td>\n",
                            "      <td>12.344167</td>\n",
                            "      <td>23579</td>\n",
                            "      <td>10.814964</td>\n",
                            "      <td>25213</td>\n",
                            "      <td>11.564429</td>\n",
                            "      <td>...</td>\n",
                            "      <td>14692</td>\n",
                            "      <td>12.0</td>\n",
                            "      <td>11.0</td>\n",
                            "      <td>13.1</td>\n",
                            "      <td>20520</td>\n",
                            "      <td>3.2</td>\n",
                            "      <td>3.0</td>\n",
                            "      <td>3.5</td>\n",
                            "      <td>5479</td>\n",
                            "      <td>4</td>\n",
                            "    </tr>\n",
                            "    <tr>\n",
                            "      <th>2</th>\n",
                            "      <td>1005</td>\n",
                            "      <td>24881</td>\n",
                            "      <td>2732</td>\n",
                            "      <td>10.980266</td>\n",
                            "      <td>2960</td>\n",
                            "      <td>11.896628</td>\n",
                            "      <td>3268</td>\n",
                            "      <td>13.134520</td>\n",
                            "      <td>3201</td>\n",
                            "      <td>12.865239</td>\n",
                            "      <td>...</td>\n",
                            "      <td>2373</td>\n",
                            "      <td>19.7</td>\n",
                            "      <td>18.6</td>\n",
                            "      <td>20.6</td>\n",
                            "      <td>3870</td>\n",
                            "      <td>4.5</td>\n",
                            "      <td>4.2</td>\n",
                            "      <td>4.8</td>\n",
                            "      <td>887</td>\n",
                            "      <td>6</td>\n",
                            "    </tr>\n",
                            "    <tr>\n",
                            "      <th>3</th>\n",
                            "      <td>1007</td>\n",
                            "      <td>22400</td>\n",
                            "      <td>2456</td>\n",
                            "      <td>10.964286</td>\n",
                            "      <td>2596</td>\n",
                            "      <td>11.589286</td>\n",
                            "      <td>3029</td>\n",
                            "      <td>13.522321</td>\n",
                            "      <td>3113</td>\n",
                            "      <td>13.897321</td>\n",
                            "      <td>...</td>\n",
                            "      <td>1789</td>\n",
                            "      <td>14.1</td>\n",
                            "      <td>13.2</td>\n",
                            "      <td>14.9</td>\n",
                            "      <td>2511</td>\n",
                            "      <td>3.3</td>\n",
                            "      <td>3.1</td>\n",
                            "      <td>3.6</td>\n",
                            "      <td>595</td>\n",
                            "      <td>2</td>\n",
                            "    </tr>\n",
                            "    <tr>\n",
                            "      <th>4</th>\n",
                            "      <td>1009</td>\n",
                            "      <td>57840</td>\n",
                            "      <td>7095</td>\n",
                            "      <td>12.266598</td>\n",
                            "      <td>7570</td>\n",
                            "      <td>13.087828</td>\n",
                            "      <td>6742</td>\n",
                            "      <td>11.656293</td>\n",
                            "      <td>6884</td>\n",
                            "      <td>11.901798</td>\n",
                            "      <td>...</td>\n",
                            "      <td>4661</td>\n",
                            "      <td>13.5</td>\n",
                            "      <td>12.6</td>\n",
                            "      <td>14.5</td>\n",
                            "      <td>6017</td>\n",
                            "      <td>3.4</td>\n",
                            "      <td>3.2</td>\n",
                            "      <td>3.7</td>\n",
                            "      <td>1507</td>\n",
                            "      <td>2</td>\n",
                            "    </tr>\n",
                            "  </tbody>\n",
                            "</table>\n",
                            "<p>5 rows × 108 columns</p>\n",
                            "</div>"
                        ],
                        "text/plain": [
                            "   fips  TOT_POP    0-9  0-9 y/o % of total pop  19-Oct  \\\n",
                            "0  1001    55601   6787               12.206615    7637   \n",
                            "1  1003   218022  24757               11.355276   26913   \n",
                            "2  1005    24881   2732               10.980266    2960   \n",
                            "3  1007    22400   2456               10.964286    2596   \n",
                            "4  1009    57840   7095               12.266598    7570   \n",
                            "\n",
                            "   10-19 y/o % of total pop  20-29  20-29 y/o % of total pop  30-39  \\\n",
                            "0                 13.735364   6878                 12.370281   7089   \n",
                            "1                 12.344167  23579                 10.814964  25213   \n",
                            "2                 11.896628   3268                 13.134520   3201   \n",
                            "3                 11.589286   3029                 13.522321   3113   \n",
                            "4                 13.087828   6742                 11.656293   6884   \n",
                            "\n",
                            "   30-39 y/o % of total pop  ...  COPD_number  diabetes_prevalence  \\\n",
                            "0                 12.749771  ...         3644                 12.9   \n",
                            "1                 11.564429  ...        14692                 12.0   \n",
                            "2                 12.865239  ...         2373                 19.7   \n",
                            "3                 13.897321  ...         1789                 14.1   \n",
                            "4                 11.901798  ...         4661                 13.5   \n",
                            "\n",
                            "   diabetes_Lower 95% CI  diabetes_Upper 95% CI  diabetes_number  \\\n",
                            "0                   11.9                   13.8             5462   \n",
                            "1                   11.0                   13.1            20520   \n",
                            "2                   18.6                   20.6             3870   \n",
                            "3                   13.2                   14.9             2511   \n",
                            "4                   12.6                   14.5             6017   \n",
                            "\n",
                            "   CKD_prevalence  CKD_Lower 95% CI  CKD_Upper 95% CI  CKD_number  \\\n",
                            "0             3.1               2.9               3.3        1326   \n",
                            "1             3.2               3.0               3.5        5479   \n",
                            "2             4.5               4.2               4.8         887   \n",
                            "3             3.3               3.1               3.6         595   \n",
                            "4             3.4               3.2               3.7        1507   \n",
                            "\n",
                            "   Urban_rural_code  \n",
                            "0                 3  \n",
                            "1                 4  \n",
                            "2                 6  \n",
                            "3                 2  \n",
                            "4                 2  \n",
                            "\n",
                            "[5 rows x 108 columns]"
                        ]
                    },
                    "execution_count": 4,
                    "metadata": {},
                    "output_type": "execute_result"
                }
            ],
            "source": [
                "df.head()"
            ]
        },
        {
            "cell_type": "code",
            "execution_count": 10,
            "metadata": {},
            "outputs": [
                {
                    "data": {
                        "text/plain": [
                            "count    3140.000000\n",
                            "mean       13.073503\n",
                            "std         2.724351\n",
                            "min         6.100000\n",
                            "25%        11.200000\n",
                            "50%        12.800000\n",
                            "75%        14.800000\n",
                            "max        25.600000\n",
                            "Name: diabetes_prevalence, dtype: float64"
                        ]
                    },
                    "execution_count": 10,
                    "metadata": {},
                    "output_type": "execute_result"
                }
            ],
            "source": [
                "df['diabetes_prevalence'].describe()"
            ]
        },
        {
            "cell_type": "code",
            "execution_count": 5,
            "metadata": {},
            "outputs": [
                {
                    "name": "stdout",
                    "output_type": "stream",
                    "text": [
                        "<class 'pandas.core.frame.DataFrame'>\n",
                        "RangeIndex: 3140 entries, 0 to 3139\n",
                        "Columns: 108 entries, fips to Urban_rural_code\n",
                        "dtypes: float64(61), int64(45), object(2)\n",
                        "memory usage: 2.6+ MB\n"
                    ]
                }
            ],
            "source": [
                "df.info()"
            ]
        },
        {
            "cell_type": "markdown",
            "metadata": {},
            "source": [
                "- Verificar valores nulos"
            ]
        },
        {
            "cell_type": "code",
            "execution_count": 6,
            "metadata": {},
            "outputs": [
                {
                    "data": {
                        "text/plain": [
                            "fips                      0\n",
                            "TOT_POP                   0\n",
                            "0-9                       0\n",
                            "0-9 y/o % of total pop    0\n",
                            "19-Oct                    0\n",
                            "                         ..\n",
                            "CKD_prevalence            0\n",
                            "CKD_Lower 95% CI          0\n",
                            "CKD_Upper 95% CI          0\n",
                            "CKD_number                0\n",
                            "Urban_rural_code          0\n",
                            "Length: 108, dtype: int64"
                        ]
                    },
                    "execution_count": 6,
                    "metadata": {},
                    "output_type": "execute_result"
                }
            ],
            "source": [
                "df.isnull().sum()"
            ]
        },
        {
            "cell_type": "markdown",
            "metadata": {},
            "source": [
                "- A mi parecer no tienen problemas los datos, pero son un poco raros por los valores que tienen, aunque entiendo que es por lo demográfico"
            ]
        },
        {
            "cell_type": "markdown",
            "metadata": {},
            "source": [
                "- Vamos a dividir en variables las variables categóricas y numéricas"
            ]
        },
        {
            "cell_type": "code",
            "execution_count": 7,
            "metadata": {},
            "outputs": [],
            "source": [
                "categoricas = df.select_dtypes(include=['object']).columns\n",
                "numericas = df.select_dtypes(include=[np.number]).columns"
            ]
        },
        {
            "cell_type": "markdown",
            "metadata": {},
            "source": [
                "- Dividimos el conjunto en \"X\" y \"y\""
            ]
        },
        {
            "cell_type": "code",
            "execution_count": 12,
            "metadata": {},
            "outputs": [],
            "source": [
                "X = df[numericas]\n",
                "y = df['diabetes_prevalence']"
            ]
        },
        {
            "cell_type": "markdown",
            "metadata": {},
            "source": [
                "- Visualizamos la distribución de valores en la variable objetivo"
            ]
        },
        {
            "cell_type": "code",
            "execution_count": 13,
            "metadata": {},
            "outputs": [
                {
                    "data": {
                        "text/plain": [
                            "Text(0.5, 0, 'diabetes_prevalence')"
                        ]
                    },
                    "execution_count": 13,
                    "metadata": {},
                    "output_type": "execute_result"
                },
                {
                    "data": {
                        "image/png": "[encoded data removed]",
                        "text/plain": [
                            "<Figure size 1200x800 with 1 Axes>"
                        ]
                    },
                    "metadata": {},
                    "output_type": "display_data"
                }
            ],
            "source": [
                "plt.figure(figsize=(12, 8))\n",
                "plt.subplot(2, 2, 1)\n",
                "plt.hist(y, bins=30)\n",
                "plt.title('Distribución de diabetes_prevalence')\n",
                "plt.xlabel('diabetes_prevalence')"
            ]
        },
        {
            "cell_type": "markdown",
            "metadata": {},
            "source": [
                "- Veamos las correlaciones de las características y la variable objetivo"
            ]
        },
        {
            "cell_type": "code",
            "execution_count": 14,
            "metadata": {},
            "outputs": [
                {
                    "data": {
                        "text/plain": [
                            "diabetes_prevalence      1.000000\n",
                            "diabetes_Upper 95% CI    0.998409\n",
                            "diabetes_Lower 95% CI    0.998069\n",
                            "CKD_Lower 95% CI         0.924630\n",
                            "CKD_prevalence           0.918514\n",
                            "dtype: float64"
                        ]
                    },
                    "execution_count": 14,
                    "metadata": {},
                    "output_type": "execute_result"
                }
            ],
            "source": [
                "correlations = X.corrwith(y).abs().sort_values(ascending=False)\n",
                "correlations.head()"
            ]
        },
        {
            "cell_type": "markdown",
            "metadata": {},
            "source": [
                "- Y aquí generamos un gráfico visual"
            ]
        },
        {
            "cell_type": "code",
            "execution_count": 15,
            "metadata": {},
            "outputs": [
                {
                    "data": {
                        "text/plain": [
                            "Text(0.5, 1.0, 'Top 10 Correlaciones')"
                        ]
                    },
                    "execution_count": 15,
                    "metadata": {},
                    "output_type": "execute_result"
                },
                {
                    "data": {
                        "image/png": "[encoded data removed]",
                        "text/plain": [
                            "<Figure size 640x480 with 1 Axes>"
                        ]
                    },
                    "metadata": {},
                    "output_type": "display_data"
                }
            ],
            "source": [
                "plt.subplot(2, 2, 2)\n",
                "top_corr = correlations.head(10)\n",
                "plt.barh(range(len(top_corr)), top_corr.values)\n",
                "plt.yticks(range(len(top_corr)), top_corr.index)\n",
                "plt.xlabel('Correlación')\n",
                "plt.title('Top 10 Correlaciones')"
            ]
        },
        {
            "cell_type": "markdown",
            "metadata": {},
            "source": [
                "### Entrenamiento del modelo"
            ]
        },
        {
            "cell_type": "markdown",
            "metadata": {},
            "source": [
                "- Dividimos en train y test"
            ]
        },
        {
            "cell_type": "code",
            "execution_count": 16,
            "metadata": {},
            "outputs": [],
            "source": [
                "X_train, X_test, y_train, y_test = train_test_split(X, y, test_size=0.2, random_state=42)"
            ]
        },
        {
            "cell_type": "markdown",
            "metadata": {},
            "source": [
                "- También escalamos las para que sea 0 y 1"
            ]
        },
        {
            "cell_type": "code",
            "execution_count": 17,
            "metadata": {},
            "outputs": [],
            "source": [
                "scaler = StandardScaler()\n",
                "X_train_scaled = scaler.fit_transform(X_train)\n",
                "X_test_scaled = scaler.transform(X_test)"
            ]
        },
        {
            "cell_type": "markdown",
            "metadata": {},
            "source": [
                "- Y entrenamos el modelo de regresión lineal"
            ]
        },
        {
            "cell_type": "code",
            "execution_count": 18,
            "metadata": {},
            "outputs": [],
            "source": [
                "modelo = LinearRegression()\n",
                "modelo.fit(X_train_scaled, y_train)\n",
                "y_pred = modelo.predict(X_test_scaled)"
            ]
        },
        {
            "cell_type": "markdown",
            "metadata": {},
            "source": [
                "- Tengo que sacar los valores r2 y el error cuadrático medio"
            ]
        },
        {
            "cell_type": "code",
            "execution_count": 20,
            "metadata": {},
            "outputs": [
                {
                    "data": {
                        "text/plain": [
                            "1.0"
                        ]
                    },
                    "execution_count": 20,
                    "metadata": {},
                    "output_type": "execute_result"
                }
            ],
            "source": [
                "r2_lr = r2_score(y_test, y_pred)\n",
                "mse_lr = mean_squared_error(y_test, y_pred)\n",
                "\n",
                "r2_lr"
            ]
        },
        {
            "cell_type": "code",
            "execution_count": 21,
            "metadata": {},
            "outputs": [
                {
                    "data": {
                        "text/plain": [
                            "2.7652840712635914e-29"
                        ]
                    },
                    "execution_count": 21,
                    "metadata": {},
                    "output_type": "execute_result"
                }
            ],
            "source": [
                "mse_lr"
            ]
        },
        {
            "cell_type": "markdown",
            "metadata": {},
            "source": [
                "- El valor de 1 de r2 significa que el modelo se ajustó perfectamente a los datos\n",
                "- El valor del error medio cuadrático también es bastante bueno ya que es muy pequeño, lo que quiere decir que los datos están lo más cercano a la regresión"
            ]
        },
        {
            "cell_type": "markdown",
            "metadata": {},
            "source": [
                "### Optimización con diferentes valores de alpha"
            ]
        },
        {
            "cell_type": "code",
            "execution_count": 22,
            "metadata": {},
            "outputs": [
                {
                    "data": {
                        "text/plain": [
                            "np.float64(0.001)"
                        ]
                    },
                    "execution_count": 22,
                    "metadata": {},
                    "output_type": "execute_result"
                }
            ],
            "source": [
                "alphas = np.logspace(-3, 1.3, 50)  # desde 0.001 hasta ~20\n",
                "valores_r2 = []\n",
                "\n",
                "for alpha in alphas:\n",
                "    lasso = Lasso(alpha=alpha, random_state=42)\n",
                "    lasso.fit(X_train_scaled, y_train)\n",
                "    y_pred = lasso.predict(X_test_scaled)\n",
                "    valores_r2.append(r2_score(y_test, y_pred))\n",
                "\n",
                "mejor_alpha_id = np.argmax(valores_r2)\n",
                "mejor_alpha = alphas[mejor_alpha_id]\n",
                "mejor_r2 = valores_r2[mejor_alpha_id]\n",
                "\n",
                "mejor_alpha"
            ]
        },
        {
            "cell_type": "code",
            "execution_count": 23,
            "metadata": {},
            "outputs": [
                {
                    "data": {
                        "text/plain": [
                            "0.9999996959581074"
                        ]
                    },
                    "execution_count": 23,
                    "metadata": {},
                    "output_type": "execute_result"
                }
            ],
            "source": [
                "mejor_r2"
            ]
        },
        {
            "cell_type": "markdown",
            "metadata": {},
            "source": [
                "- Aquí se puede ver que el mejor valor de alpha en este caso es de \"0.001\", y que el mejor score es prácticamente 1 como lo estábamos viendo"
            ]
        },
        {
            "cell_type": "markdown",
            "metadata": {},
            "source": [
                "- Ahora sí se va a optimizar con grid search"
            ]
        },
        {
            "cell_type": "code",
            "execution_count": 25,
            "metadata": {},
            "outputs": [],
            "source": [
                "grid = {'alpha': np.logspace(-4, 2, 20)}\n",
                "\n",
                "grid_search = GridSearchCV(\n",
                "    Lasso(random_state=42),\n",
                "    grid,\n",
                "    cv=5,\n",
                "    scoring='r2'\n",
                ")\n",
                "\n",
                "grid_search.fit(X_train_scaled, y_train)\n",
                "y_pred_grid = grid_search.predict(X_test_scaled)\n",
                "\n",
                "r2_grid = r2_score(y_test, y_pred_grid)\n",
                "mse_grid = mean_squared_error(y_test, y_pred_grid)"
            ]
        },
        {
            "cell_type": "code",
            "execution_count": 26,
            "metadata": {},
            "outputs": [
                {
                    "data": {
                        "text/plain": [
                            "np.float64(0.00042813323987193956)"
                        ]
                    },
                    "execution_count": 26,
                    "metadata": {},
                    "output_type": "execute_result"
                }
            ],
            "source": [
                "grid_search.best_params_['alpha']"
            ]
        },
        {
            "cell_type": "code",
            "execution_count": 27,
            "metadata": {},
            "outputs": [
                {
                    "data": {
                        "text/plain": [
                            "0.9999999319503035"
                        ]
                    },
                    "execution_count": 27,
                    "metadata": {},
                    "output_type": "execute_result"
                }
            ],
            "source": [
                "r2_grid"
            ]
        },
        {
            "cell_type": "code",
            "execution_count": 28,
            "metadata": {},
            "outputs": [
                {
                    "data": {
                        "text/plain": [
                            "5.473340493585625e-07"
                        ]
                    },
                    "execution_count": 28,
                    "metadata": {},
                    "output_type": "execute_result"
                }
            ],
            "source": [
                "mse_grid"
            ]
        },
        {
            "cell_type": "markdown",
            "metadata": {},
            "source": [
                "- Aquí si notamos que el alpha cambió y dio uno mucho más específico\n",
                "- Lo que cambió aquí fue que el error medio cuadrático, es mayor"
            ]
        },
        {
            "cell_type": "markdown",
            "metadata": {},
            "source": [
                "- Vamos a ver si cambia con el random search"
            ]
        },
        {
            "cell_type": "code",
            "execution_count": 29,
            "metadata": {},
            "outputs": [],
            "source": [
                "dist = {'alpha': np.logspace(-4, 2, 1000)}\n",
                "\n",
                "random_search = RandomizedSearchCV(\n",
                "    Lasso(random_state=42),\n",
                "    dist,\n",
                "    n_iter=50,\n",
                "    cv=5,\n",
                "    scoring='r2',\n",
                "    random_state=42\n",
                ")\n",
                "\n",
                "random_search.fit(X_train_scaled, y_train)\n",
                "y_pred_random = random_search.predict(X_test_scaled)\n",
                "\n",
                "r2_random = r2_score(y_test, y_pred_random)\n",
                "mse_random = mean_squared_error(y_test, y_pred_random)"
            ]
        },
        {
            "cell_type": "code",
            "execution_count": 30,
            "metadata": {},
            "outputs": [
                {
                    "data": {
                        "text/plain": [
                            "np.float64(0.00037720424934169976)"
                        ]
                    },
                    "execution_count": 30,
                    "metadata": {},
                    "output_type": "execute_result"
                }
            ],
            "source": [
                "random_search.best_params_['alpha']"
            ]
        },
        {
            "cell_type": "code",
            "execution_count": 31,
            "metadata": {},
            "outputs": [
                {
                    "data": {
                        "text/plain": [
                            "0.9999999468446982"
                        ]
                    },
                    "execution_count": 31,
                    "metadata": {},
                    "output_type": "execute_result"
                }
            ],
            "source": [
                "r2_random"
            ]
        },
        {
            "cell_type": "code",
            "execution_count": 32,
            "metadata": {},
            "outputs": [
                {
                    "data": {
                        "text/plain": [
                            "4.2753617016193e-07"
                        ]
                    },
                    "execution_count": 32,
                    "metadata": {},
                    "output_type": "execute_result"
                }
            ],
            "source": [
                "mse_random"
            ]
        },
        {
            "cell_type": "markdown",
            "metadata": {},
            "source": [
                "- Con los dos se notaron cambios, diferentes alphas, el r2 es prácticamente 1 pero el error medio cuadrático sí cambia, son diferentes en los dos, en este caso del random search es menor que el de grid search, pero se obtuvo un menor error medio cuadrático con el modelo sin optimizar"
            ]
        }
    ],
    "metadata": {
        "kernelspec": {
            "display_name": "Python 3",
            "language": "python",
            "name": "python3"
        },
        "language_info": {
            "codemirror_mode": {
                "name": "ipython",
                "version": 3
            },
            "file_extension": ".py",
            "mimetype": "text/x-python",
            "name": "python",
            "nbconvert_exporter": "python",
            "pygments_lexer": "ipython3",
            "version": "3.11.4"
        },
        "orig_nbformat": 4
    },
    "nbformat": 4,
    "nbformat_minor": 2
}
